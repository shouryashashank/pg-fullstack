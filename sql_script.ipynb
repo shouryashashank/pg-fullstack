{
    "metadata": {
        "kernelspec": {
            "name": "SQL",
            "display_name": "SQL",
            "language": "sql"
        },
        "language_info": {
            "name": "sql",
            "version": ""
        }
    },
    "nbformat_minor": 2,
    "nbformat": 4,
    "cells": [
        {
            "cell_type": "code",
            "source": [
                "CREATE SCHEMA ft"
            ],
            "metadata": {
                "azdata_cell_guid": "41d8cbd0-a34a-411e-b687-44dbcc478cc5",
                "language": "sql"
            },
            "outputs": [
                {
                    "output_type": "display_data",
                    "data": {
                        "text/html": "CREATE SCHEMA"
                    },
                    "metadata": {}
                },
                {
                    "output_type": "display_data",
                    "data": {
                        "text/html": "Total execution time: 00:00:00.003"
                    },
                    "metadata": {}
                }
            ],
            "execution_count": 1
        },
        {
            "cell_type": "code",
            "source": [
                "create Table ft.vehicle(\r\n",
                "    id SERIAL PRIMARY KEY,\r\n",
                "    name TEXT UNIQUE,\r\n",
                "    data JSONB\r\n",
                ")"
            ],
            "metadata": {
                "azdata_cell_guid": "01f33993-eb56-47e9-a217-7c422932d892",
                "language": "sql"
            },
            "outputs": [
                {
                    "output_type": "display_data",
                    "data": {
                        "text/html": "CREATE TABLE"
                    },
                    "metadata": {}
                },
                {
                    "output_type": "display_data",
                    "data": {
                        "text/html": "Total execution time: 00:00:00.017"
                    },
                    "metadata": {}
                }
            ],
            "execution_count": 2
        },
        {
            "cell_type": "code",
            "source": [
                "Insert INTO ft.vehicle (name,data) values ('test_car','{\"type\":\"car\",\"year\":\"2020\",\"make\":\"honda\",\"body_type\":\"suv\",\"engine_type\":\"v6\",\"transmission\":\"manual\"}');\r\n",
                "INSERT INTO ft.vehicle (name, data) VALUES \r\n",
                "('Toyota_Camry', '{\"type\":\"car\",\"year\":\"2020\",\"make\":\"Toyota\",\"body_type\":\"sedan\",\"engine_type\":\"V4\",\"transmission\":\"automatic\"}'),\r\n",
                "('Honda_CRV', '{\"type\":\"car\",\"year\":\"2021\",\"make\":\"Honda\",\"body_type\":\"SUV\",\"engine_type\":\"V6\",\"transmission\":\"manual\"}'),\r\n",
                "('Ford_F150', '{\"type\":\"car\",\"year\":\"2019\",\"make\":\"Ford\",\"body_type\":\"truck\",\"engine_type\":\"V8\",\"transmission\":\"automatic\"}'),\r\n",
                "('Chevrolet_Sonic', '{\"type\":\"car\",\"year\":\"2020\",\"make\":\"Chevrolet\",\"body_type\":\"hatchback\",\"engine_type\":\"V4\",\"transmission\":\"manual\"}'),\r\n",
                "('BMW_3_Series', '{\"type\":\"car\",\"year\":\"2021\",\"make\":\"BMW\",\"body_type\":\"coupe\",\"engine_type\":\"V6\",\"transmission\":\"automatic\"}'),\r\n",
                "('Audi_Q5', '{\"type\":\"car\",\"year\":\"2022\",\"make\":\"Audi\",\"body_type\":\"SUV\",\"engine_type\":\"V6\",\"transmission\":\"manual\"}'),\r\n",
                "('MercedesBenz_CClass', '{\"type\":\"car\",\"year\":\"2018\",\"make\":\"Mercedes-Benz\",\"body_type\":\"sedan\",\"engine_type\":\"V6\",\"transmission\":\"automatic\"}'),\r\n",
                "('Hyundai_Tucson', '{\"type\":\"car\",\"year\":\"2019\",\"make\":\"Hyundai\",\"body_type\":\"SUV\",\"engine_type\":\"V4\",\"transmission\":\"manual\"}'),\r\n",
                "('Kia_Optima', '{\"type\":\"car\",\"year\":\"2020\",\"make\":\"Kia\",\"body_type\":\"sedan\",\"engine_type\":\"V4\",\"transmission\":\"automatic\"}'),\r\n",
                "('Mazda_3', '{\"type\":\"car\",\"year\":\"2021\",\"make\":\"Mazda\",\"body_type\":\"hatchback\",\"engine_type\":\"V6\",\"transmission\":\"manual\"}'),\r\n",
                "('Nissan_Rogue', '{\"type\":\"car\",\"year\":\"2019\",\"make\":\"Nissan\",\"body_type\":\"SUV\",\"engine_type\":\"V4\",\"transmission\":\"automatic\"}'),\r\n",
                "('Tesla_Model_3', '{\"type\":\"car\",\"year\":\"2021\",\"make\":\"Tesla\",\"body_type\":\"sedan\",\"engine_type\":\"electric\",\"transmission\":\"automatic\"}'),\r\n",
                "('Subaru_Forester', '{\"type\":\"car\",\"year\":\"2020\",\"make\":\"Subaru\",\"body_type\":\"SUV\",\"engine_type\":\"V4\",\"transmission\":\"manual\"}'),\r\n",
                "('Volkswagen_Jetta', '{\"type\":\"car\",\"year\":\"2022\",\"make\":\"Volkswagen\",\"body_type\":\"sedan\",\"engine_type\":\"V4\",\"transmission\":\"automatic\"}'),\r\n",
                "('Chevrolet_Equinox', '{\"type\":\"car\",\"year\":\"2021\",\"make\":\"Chevrolet\",\"body_type\":\"SUV\",\"engine_type\":\"V6\",\"transmission\":\"manual\"}'),\r\n",
                "('Toyota_RAV4', '{\"type\":\"car\",\"year\":\"2019\",\"make\":\"Toyota\",\"body_type\":\"SUV\",\"engine_type\":\"V4\",\"transmission\":\"automatic\"}'),\r\n",
                "('Honda_Accord', '{\"type\":\"car\",\"year\":\"2020\",\"make\":\"Honda\",\"body_type\":\"sedan\",\"engine_type\":\"V4\",\"transmission\":\"manual\"}'),\r\n",
                "('Ford_Escape', '{\"type\":\"car\",\"year\":\"2021\",\"make\":\"Ford\",\"body_type\":\"SUV\",\"engine_type\":\"V6\",\"transmission\":\"automatic\"}'),\r\n",
                "('BMW_X5', '{\"type\":\"car\",\"year\":\"2019\",\"make\":\"BMW\",\"body_type\":\"SUV\",\"engine_type\":\"V8\",\"transmission\":\"manual\"}'),\r\n",
                "('Audi_A4', '{\"type\":\"car\",\"year\":\"2020\",\"make\":\"Audi\",\"body_type\":\"sedan\",\"engine_type\":\"V6\",\"transmission\":\"automatic\"}'),\r\n",
                "('Jeep_Grand_Cherokee', '{\"type\":\"car\",\"year\":\"2022\",\"make\":\"Jeep\",\"body_type\":\"SUV\",\"engine_type\":\"V6\",\"transmission\":\"manual\"}');\r\n",
                "-- Insert INTO ft.vehicle (name,data) values ('test_bike','{\"type\":\"bike\",\"year\":\"2020\",\"make\":\"honda\",\"engine_type\":\"2 stroke\",\"transmission\":\"manual\"}');\r\n",
                "INSERT INTO ft.vehicle (name, data) VALUES ('Honda CB500X', '{\"type\":\"bike\",\"year\":\"2021\",\"make\":\"Honda\",\"engine_type\":\"2-cylinder\",\"transmission\":\"manual\"}');\r\n",
                "INSERT INTO ft.vehicle (name, data) VALUES ('Yamaha YZF-R3', '{\"type\":\"bike\",\"year\":\"2022\",\"make\":\"Yamaha\",\"engine_type\":\"2-cylinder\",\"transmission\":\"manual\"}');\r\n",
                "INSERT INTO ft.vehicle (name, data) VALUES ('Kawasaki Ninja 400', '{\"type\":\"bike\",\"year\":\"2022\",\"make\":\"Kawasaki\",\"engine_type\":\"2-cylinder\",\"transmission\":\"manual\"}');\r\n",
                "INSERT INTO ft.vehicle (name, data) VALUES ('Suzuki GSX250R', '{\"type\":\"bike\",\"year\":\"2021\",\"make\":\"Suzuki\",\"engine_type\":\"2-cylinder\",\"transmission\":\"manual\"}');\r\n",
                "INSERT INTO ft.vehicle (name, data) VALUES ('BMW G310GS', '{\"type\":\"bike\",\"year\":\"2022\",\"make\":\"BMW\",\"engine_type\":\"1-cylinder\",\"transmission\":\"manual\"}');\r\n",
                "INSERT INTO ft.vehicle (name, data) VALUES ('Ducati Panigale V4', '{\"type\":\"bike\",\"year\":\"2021\",\"make\":\"Ducati\",\"engine_type\":\"V4\",\"transmission\":\"manual\"}');\r\n",
                "INSERT INTO ft.vehicle (name, data) VALUES ('Triumph Street Triple R', '{\"type\":\"bike\",\"year\":\"2022\",\"make\":\"Triumph\",\"engine_type\":\"3-cylinder\",\"transmission\":\"manual\"}');\r\n",
                "INSERT INTO ft.vehicle (name, data) VALUES ('KTM 390 Duke', '{\"type\":\"bike\",\"year\":\"2022\",\"make\":\"KTM\",\"engine_type\":\"1-cylinder\",\"transmission\":\"manual\"}');\r\n",
                "INSERT INTO ft.vehicle (name, data) VALUES ('Harley-Davidson Iron 883', '{\"type\":\"bike\",\"year\":\"2021\",\"make\":\"Harley-Davidson\",\"engine_type\":\"V-Twin\",\"transmission\":\"manual\"}');\r\n",
                "INSERT INTO ft.vehicle (name, data) VALUES ('Royal Enfield Interceptor 650', '{\"type\":\"bike\",\"year\":\"2022\",\"make\":\"Royal Enfield\",\"engine_type\":\"2-cylinder\",\"transmission\":\"manual\"}');\r\n",
                "INSERT INTO ft.vehicle (name, data) VALUES ('Aprilia RS 660', '{\"type\":\"bike\",\"year\":\"2021\",\"make\":\"Aprilia\",\"engine_type\":\"2-cylinder\",\"transmission\":\"manual\"}');\r\n",
                "INSERT INTO ft.vehicle (name, data) VALUES ('Husqvarna Svartpilen 401', '{\"type\":\"bike\",\"year\":\"2022\",\"make\":\"Husqvarna\",\"engine_type\":\"1-cylinder\",\"transmission\":\"manual\"}');\r\n",
                "INSERT INTO ft.vehicle (name, data) VALUES ('Indian Scout Bobber', '{\"type\":\"bike\",\"year\":\"2021\",\"make\":\"Indian Motorcycle\",\"engine_type\":\"V-Twin\",\"transmission\":\"manual\"}');\r\n",
                "INSERT INTO ft.vehicle (name, data) VALUES ('MV Agusta Brutale 800', '{\"type\":\"bike\",\"year\":\"2022\",\"make\":\"MV Agusta\",\"engine_type\":\"3-cylinder\",\"transmission\":\"manual\"}');\r\n",
                "INSERT INTO ft.vehicle (name, data) VALUES ('Benelli Leoncino 500', '{\"type\":\"bike\",\"year\":\"2021\",\"make\":\"Benelli\",\"engine_type\":\"2-cylinder\",\"transmission\":\"manual\"}');\r\n",
                "INSERT INTO ft.vehicle (name, data) VALUES ('BMW S1000RR', '{\"type\":\"bike\",\"year\":\"2022\",\"make\":\"BMW\",\"engine_type\":\"4-cylinder\",\"transmission\":\"manual\"}');\r\n",
                "INSERT INTO ft.vehicle (name, data) VALUES ('Kawasaki Z900RS', '{\"type\":\"bike\",\"year\":\"2021\",\"make\":\"Kawasaki\",\"engine_type\":\"4-cylinder\",\"transmission\":\"manual\"}');\r\n",
                "INSERT INTO ft.vehicle (name, data) VALUES ('Ducati Scrambler 800', '{\"type\":\"bike\",\"year\":\"2022\",\"make\":\"Ducati\",\"engine_type\":\"L-Twin\",\"transmission\":\"manual\"}');\r\n",
                "INSERT INTO ft.vehicle (name, data) VALUES ('Honda CBR600RR', '{\"type\":\"bike\",\"year\":\"2021\",\"make\":\"Honda\",\"engine_type\":\"4-cylinder\",\"transmission\":\"manual\"}');\r\n",
                "INSERT INTO ft.vehicle (name, data) VALUES ('Yamaha MT-09', '{\"type\":\"bike\",\"year\":\"2022\",\"make\":\"Yamaha\",\"engine_type\":\"3-cylinder\",\"transmission\":\"manual\"}');\r\n",
                "INSERT INTO ft.vehicle (name, data) VALUES ('Suzuki V-Strom 650', '{\"type\":\"bike\",\"year\":\"2021\",\"make\":\"Suzuki\",\"engine_type\":\"V-Twin\",\"transmission\":\"manual\"}');\r\n",
                "INSERT INTO ft.vehicle (name, data) VALUES ('Aprilia Tuono 660', '{\"type\":\"bike\",\"year\":\"2022\",\"make\":\"Aprilia\",\"engine_type\":\"2-cylinder\",\"transmission\":\"manual\"}');\r\n",
                "INSERT INTO ft.vehicle (name, data) VALUES ('Harley-Davidson Fat Boy', '{\"type\":\"bike\",\"year\":\"2021\",\"make\":\"Harley-Davidson\",\"engine_type\":\"V-Twin\",\"transmission\":\"manual\"}');\r\n",
                "INSERT INTO ft.vehicle (name, data) VALUES ('Royal Enfield Himalayan', '{\"type\":\"bike\",\"year\":\"2022\",\"make\":\"Royal Enfield\",\"engine_type\":\"1-cylinder\",\"transmission\":\"manual\"}');\r\n",
                "INSERT INTO ft.vehicle (name, data) VALUES ('KTM 1290 Super Duke R', '{\"type\":\"bike\",\"year\":\"2021\",\"make\":\"KTM\",\"engine_type\":\"V-Twin\",\"transmission\":\"manual\"}');\r\n",
                ""
            ],
            "metadata": {
                "language": "sql",
                "azdata_cell_guid": "44906886-144a-4a84-9a22-6d9a1351e31f"
            },
            "outputs": [
                {
                    "output_type": "display_data",
                    "data": {
                        "text/html": "INSERT 0 1"
                    },
                    "metadata": {}
                },
                {
                    "output_type": "display_data",
                    "data": {
                        "text/html": "Total execution time: 00:00:00.002"
                    },
                    "metadata": {}
                }
            ],
            "execution_count": 3
        },
        {
            "cell_type": "code",
            "source": [
                "select * from ft.vehicle"
            ],
            "metadata": {
                "azdata_cell_guid": "8daca768-f9ef-4e2e-a799-5b76d1d3bfd9",
                "language": "sql"
            },
            "outputs": [
                {
                    "output_type": "display_data",
                    "data": {
                        "text/html": "(48 row(s) affected)"
                    },
                    "metadata": {}
                },
                {
                    "output_type": "display_data",
                    "data": {
                        "text/html": "Total execution time: 00:00:00.004"
                    },
                    "metadata": {}
                },
                {
                    "output_type": "execute_result",
                    "metadata": {},
                    "execution_count": 7,
                    "data": {
                        "application/vnd.dataresource+json": {
                            "schema": {
                                "fields": [
                                    {
                                        "name": "id"
                                    },
                                    {
                                        "name": "name"
                                    },
                                    {
                                        "name": "data"
                                    }
                                ]
                            },
                            "data": [
                                {
                                    "id": "1",
                                    "name": "test_car",
                                    "data": "{\"make\": \"honda\", \"type\": \"car\", \"year\": \"2020\", \"body_type\": \"suv\", \"engine_type\": \"v6\", \"transmission\": \"manual\"}"
                                },
                                {
                                    "id": "2",
                                    "name": "Toyota_Camry",
                                    "data": "{\"make\": \"Toyota\", \"type\": \"car\", \"year\": \"2020\", \"body_type\": \"sedan\", \"engine_type\": \"V4\", \"transmission\": \"automatic\"}"
                                },
                                {
                                    "id": "3",
                                    "name": "Honda_CRV",
                                    "data": "{\"make\": \"Honda\", \"type\": \"car\", \"year\": \"2021\", \"body_type\": \"SUV\", \"engine_type\": \"V6\", \"transmission\": \"manual\"}"
                                },
                                {
                                    "id": "4",
                                    "name": "Ford_F150",
                                    "data": "{\"make\": \"Ford\", \"type\": \"car\", \"year\": \"2019\", \"body_type\": \"truck\", \"engine_type\": \"V8\", \"transmission\": \"automatic\"}"
                                },
                                {
                                    "id": "5",
                                    "name": "Chevrolet_Sonic",
                                    "data": "{\"make\": \"Chevrolet\", \"type\": \"car\", \"year\": \"2020\", \"body_type\": \"hatchback\", \"engine_type\": \"V4\", \"transmission\": \"manual\"}"
                                },
                                {
                                    "id": "6",
                                    "name": "BMW_3_Series",
                                    "data": "{\"make\": \"BMW\", \"type\": \"car\", \"year\": \"2021\", \"body_type\": \"coupe\", \"engine_type\": \"V6\", \"transmission\": \"automatic\"}"
                                },
                                {
                                    "id": "7",
                                    "name": "Audi_Q5",
                                    "data": "{\"make\": \"Audi\", \"type\": \"car\", \"year\": \"2022\", \"body_type\": \"SUV\", \"engine_type\": \"V6\", \"transmission\": \"manual\"}"
                                },
                                {
                                    "id": "8",
                                    "name": "MercedesBenz_CClass",
                                    "data": "{\"make\": \"Mercedes-Benz\", \"type\": \"car\", \"year\": \"2018\", \"body_type\": \"sedan\", \"engine_type\": \"V6\", \"transmission\": \"automatic\"}"
                                },
                                {
                                    "id": "9",
                                    "name": "Hyundai_Tucson",
                                    "data": "{\"make\": \"Hyundai\", \"type\": \"car\", \"year\": \"2019\", \"body_type\": \"SUV\", \"engine_type\": \"V4\", \"transmission\": \"manual\"}"
                                },
                                {
                                    "id": "10",
                                    "name": "Kia_Optima",
                                    "data": "{\"make\": \"Kia\", \"type\": \"car\", \"year\": \"2020\", \"body_type\": \"sedan\", \"engine_type\": \"V4\", \"transmission\": \"automatic\"}"
                                },
                                {
                                    "id": "11",
                                    "name": "Mazda_3",
                                    "data": "{\"make\": \"Mazda\", \"type\": \"car\", \"year\": \"2021\", \"body_type\": \"hatchback\", \"engine_type\": \"V6\", \"transmission\": \"manual\"}"
                                },
                                {
                                    "id": "12",
                                    "name": "Nissan_Rogue",
                                    "data": "{\"make\": \"Nissan\", \"type\": \"car\", \"year\": \"2019\", \"body_type\": \"SUV\", \"engine_type\": \"V4\", \"transmission\": \"automatic\"}"
                                },
                                {
                                    "id": "13",
                                    "name": "Tesla_Model_3",
                                    "data": "{\"make\": \"Tesla\", \"type\": \"car\", \"year\": \"2021\", \"body_type\": \"sedan\", \"engine_type\": \"electric\", \"transmission\": \"automatic\"}"
                                },
                                {
                                    "id": "14",
                                    "name": "Subaru_Forester",
                                    "data": "{\"make\": \"Subaru\", \"type\": \"car\", \"year\": \"2020\", \"body_type\": \"SUV\", \"engine_type\": \"V4\", \"transmission\": \"manual\"}"
                                },
                                {
                                    "id": "15",
                                    "name": "Volkswagen_Jetta",
                                    "data": "{\"make\": \"Volkswagen\", \"type\": \"car\", \"year\": \"2022\", \"body_type\": \"sedan\", \"engine_type\": \"V4\", \"transmission\": \"automatic\"}"
                                },
                                {
                                    "id": "16",
                                    "name": "Chevrolet_Equinox",
                                    "data": "{\"make\": \"Chevrolet\", \"type\": \"car\", \"year\": \"2021\", \"body_type\": \"SUV\", \"engine_type\": \"V6\", \"transmission\": \"manual\"}"
                                },
                                {
                                    "id": "17",
                                    "name": "Toyota_RAV4",
                                    "data": "{\"make\": \"Toyota\", \"type\": \"car\", \"year\": \"2019\", \"body_type\": \"SUV\", \"engine_type\": \"V4\", \"transmission\": \"automatic\"}"
                                },
                                {
                                    "id": "18",
                                    "name": "Honda_Accord",
                                    "data": "{\"make\": \"Honda\", \"type\": \"car\", \"year\": \"2020\", \"body_type\": \"sedan\", \"engine_type\": \"V4\", \"transmission\": \"manual\"}"
                                },
                                {
                                    "id": "19",
                                    "name": "Ford_Escape",
                                    "data": "{\"make\": \"Ford\", \"type\": \"car\", \"year\": \"2021\", \"body_type\": \"SUV\", \"engine_type\": \"V6\", \"transmission\": \"automatic\"}"
                                },
                                {
                                    "id": "20",
                                    "name": "BMW_X5",
                                    "data": "{\"make\": \"BMW\", \"type\": \"car\", \"year\": \"2019\", \"body_type\": \"SUV\", \"engine_type\": \"V8\", \"transmission\": \"manual\"}"
                                },
                                {
                                    "id": "21",
                                    "name": "Audi_A4",
                                    "data": "{\"make\": \"Audi\", \"type\": \"car\", \"year\": \"2020\", \"body_type\": \"sedan\", \"engine_type\": \"V6\", \"transmission\": \"automatic\"}"
                                },
                                {
                                    "id": "22",
                                    "name": "Jeep_Grand_Cherokee",
                                    "data": "{\"make\": \"Jeep\", \"type\": \"car\", \"year\": \"2022\", \"body_type\": \"SUV\", \"engine_type\": \"V6\", \"transmission\": \"manual\"}"
                                },
                                {
                                    "id": "23",
                                    "name": "test_bike",
                                    "data": "{\"make\": \"honda\", \"type\": \"bike\", \"year\": \"2020\", \"engine_type\": \"2 stroke\", \"transmission\": \"manual\"}"
                                },
                                {
                                    "id": "24",
                                    "name": "Honda CB500X",
                                    "data": "{\"make\": \"Honda\", \"type\": \"bike\", \"year\": \"2021\", \"engine_type\": \"2-cylinder\", \"transmission\": \"manual\"}"
                                },
                                {
                                    "id": "25",
                                    "name": "Yamaha YZF-R3",
                                    "data": "{\"make\": \"Yamaha\", \"type\": \"bike\", \"year\": \"2022\", \"engine_type\": \"2-cylinder\", \"transmission\": \"manual\"}"
                                },
                                {
                                    "id": "26",
                                    "name": "Kawasaki Ninja 400",
                                    "data": "{\"make\": \"Kawasaki\", \"type\": \"bike\", \"year\": \"2022\", \"engine_type\": \"2-cylinder\", \"transmission\": \"manual\"}"
                                },
                                {
                                    "id": "27",
                                    "name": "Suzuki GSX250R",
                                    "data": "{\"make\": \"Suzuki\", \"type\": \"bike\", \"year\": \"2021\", \"engine_type\": \"2-cylinder\", \"transmission\": \"manual\"}"
                                },
                                {
                                    "id": "28",
                                    "name": "BMW G310GS",
                                    "data": "{\"make\": \"BMW\", \"type\": \"bike\", \"year\": \"2022\", \"engine_type\": \"1-cylinder\", \"transmission\": \"manual\"}"
                                },
                                {
                                    "id": "29",
                                    "name": "Ducati Panigale V4",
                                    "data": "{\"make\": \"Ducati\", \"type\": \"bike\", \"year\": \"2021\", \"engine_type\": \"V4\", \"transmission\": \"manual\"}"
                                },
                                {
                                    "id": "30",
                                    "name": "Triumph Street Triple R",
                                    "data": "{\"make\": \"Triumph\", \"type\": \"bike\", \"year\": \"2022\", \"engine_type\": \"3-cylinder\", \"transmission\": \"manual\"}"
                                },
                                {
                                    "id": "31",
                                    "name": "KTM 390 Duke",
                                    "data": "{\"make\": \"KTM\", \"type\": \"bike\", \"year\": \"2022\", \"engine_type\": \"1-cylinder\", \"transmission\": \"manual\"}"
                                },
                                {
                                    "id": "32",
                                    "name": "Harley-Davidson Iron 883",
                                    "data": "{\"make\": \"Harley-Davidson\", \"type\": \"bike\", \"year\": \"2021\", \"engine_type\": \"V-Twin\", \"transmission\": \"manual\"}"
                                },
                                {
                                    "id": "33",
                                    "name": "Royal Enfield Interceptor 650",
                                    "data": "{\"make\": \"Royal Enfield\", \"type\": \"bike\", \"year\": \"2022\", \"engine_type\": \"2-cylinder\", \"transmission\": \"manual\"}"
                                },
                                {
                                    "id": "34",
                                    "name": "Aprilia RS 660",
                                    "data": "{\"make\": \"Aprilia\", \"type\": \"bike\", \"year\": \"2021\", \"engine_type\": \"2-cylinder\", \"transmission\": \"manual\"}"
                                },
                                {
                                    "id": "35",
                                    "name": "Husqvarna Svartpilen 401",
                                    "data": "{\"make\": \"Husqvarna\", \"type\": \"bike\", \"year\": \"2022\", \"engine_type\": \"1-cylinder\", \"transmission\": \"manual\"}"
                                },
                                {
                                    "id": "36",
                                    "name": "Indian Scout Bobber",
                                    "data": "{\"make\": \"Indian Motorcycle\", \"type\": \"bike\", \"year\": \"2021\", \"engine_type\": \"V-Twin\", \"transmission\": \"manual\"}"
                                },
                                {
                                    "id": "37",
                                    "name": "MV Agusta Brutale 800",
                                    "data": "{\"make\": \"MV Agusta\", \"type\": \"bike\", \"year\": \"2022\", \"engine_type\": \"3-cylinder\", \"transmission\": \"manual\"}"
                                },
                                {
                                    "id": "38",
                                    "name": "Benelli Leoncino 500",
                                    "data": "{\"make\": \"Benelli\", \"type\": \"bike\", \"year\": \"2021\", \"engine_type\": \"2-cylinder\", \"transmission\": \"manual\"}"
                                },
                                {
                                    "id": "39",
                                    "name": "BMW S1000RR",
                                    "data": "{\"make\": \"BMW\", \"type\": \"bike\", \"year\": \"2022\", \"engine_type\": \"4-cylinder\", \"transmission\": \"manual\"}"
                                },
                                {
                                    "id": "40",
                                    "name": "Kawasaki Z900RS",
                                    "data": "{\"make\": \"Kawasaki\", \"type\": \"bike\", \"year\": \"2021\", \"engine_type\": \"4-cylinder\", \"transmission\": \"manual\"}"
                                },
                                {
                                    "id": "41",
                                    "name": "Ducati Scrambler 800",
                                    "data": "{\"make\": \"Ducati\", \"type\": \"bike\", \"year\": \"2022\", \"engine_type\": \"L-Twin\", \"transmission\": \"manual\"}"
                                },
                                {
                                    "id": "42",
                                    "name": "Honda CBR600RR",
                                    "data": "{\"make\": \"Honda\", \"type\": \"bike\", \"year\": \"2021\", \"engine_type\": \"4-cylinder\", \"transmission\": \"manual\"}"
                                },
                                {
                                    "id": "43",
                                    "name": "Yamaha MT-09",
                                    "data": "{\"make\": \"Yamaha\", \"type\": \"bike\", \"year\": \"2022\", \"engine_type\": \"3-cylinder\", \"transmission\": \"manual\"}"
                                },
                                {
                                    "id": "44",
                                    "name": "Suzuki V-Strom 650",
                                    "data": "{\"make\": \"Suzuki\", \"type\": \"bike\", \"year\": \"2021\", \"engine_type\": \"V-Twin\", \"transmission\": \"manual\"}"
                                },
                                {
                                    "id": "45",
                                    "name": "Aprilia Tuono 660",
                                    "data": "{\"make\": \"Aprilia\", \"type\": \"bike\", \"year\": \"2022\", \"engine_type\": \"2-cylinder\", \"transmission\": \"manual\"}"
                                },
                                {
                                    "id": "46",
                                    "name": "Harley-Davidson Fat Boy",
                                    "data": "{\"make\": \"Harley-Davidson\", \"type\": \"bike\", \"year\": \"2021\", \"engine_type\": \"V-Twin\", \"transmission\": \"manual\"}"
                                },
                                {
                                    "id": "47",
                                    "name": "Royal Enfield Himalayan",
                                    "data": "{\"make\": \"Royal Enfield\", \"type\": \"bike\", \"year\": \"2022\", \"engine_type\": \"1-cylinder\", \"transmission\": \"manual\"}"
                                },
                                {
                                    "id": "48",
                                    "name": "KTM 1290 Super Duke R",
                                    "data": "{\"make\": \"KTM\", \"type\": \"bike\", \"year\": \"2021\", \"engine_type\": \"V-Twin\", \"transmission\": \"manual\"}"
                                }
                            ]
                        },
                        "text/html": [
                            "<table>",
                            "<tr><th>id</th><th>name</th><th>data</th></tr>",
                            "<tr><td>1</td><td>test_car</td><td>{&quot;make&quot;: &quot;honda&quot;, &quot;type&quot;: &quot;car&quot;, &quot;year&quot;: &quot;2020&quot;, &quot;body_type&quot;: &quot;suv&quot;, &quot;engine_type&quot;: &quot;v6&quot;, &quot;transmission&quot;: &quot;manual&quot;}</td></tr>",
                            "<tr><td>2</td><td>Toyota_Camry</td><td>{&quot;make&quot;: &quot;Toyota&quot;, &quot;type&quot;: &quot;car&quot;, &quot;year&quot;: &quot;2020&quot;, &quot;body_type&quot;: &quot;sedan&quot;, &quot;engine_type&quot;: &quot;V4&quot;, &quot;transmission&quot;: &quot;automatic&quot;}</td></tr>",
                            "<tr><td>3</td><td>Honda_CRV</td><td>{&quot;make&quot;: &quot;Honda&quot;, &quot;type&quot;: &quot;car&quot;, &quot;year&quot;: &quot;2021&quot;, &quot;body_type&quot;: &quot;SUV&quot;, &quot;engine_type&quot;: &quot;V6&quot;, &quot;transmission&quot;: &quot;manual&quot;}</td></tr>",
                            "<tr><td>4</td><td>Ford_F150</td><td>{&quot;make&quot;: &quot;Ford&quot;, &quot;type&quot;: &quot;car&quot;, &quot;year&quot;: &quot;2019&quot;, &quot;body_type&quot;: &quot;truck&quot;, &quot;engine_type&quot;: &quot;V8&quot;, &quot;transmission&quot;: &quot;automatic&quot;}</td></tr>",
                            "<tr><td>5</td><td>Chevrolet_Sonic</td><td>{&quot;make&quot;: &quot;Chevrolet&quot;, &quot;type&quot;: &quot;car&quot;, &quot;year&quot;: &quot;2020&quot;, &quot;body_type&quot;: &quot;hatchback&quot;, &quot;engine_type&quot;: &quot;V4&quot;, &quot;transmission&quot;: &quot;manual&quot;}</td></tr>",
                            "<tr><td>6</td><td>BMW_3_Series</td><td>{&quot;make&quot;: &quot;BMW&quot;, &quot;type&quot;: &quot;car&quot;, &quot;year&quot;: &quot;2021&quot;, &quot;body_type&quot;: &quot;coupe&quot;, &quot;engine_type&quot;: &quot;V6&quot;, &quot;transmission&quot;: &quot;automatic&quot;}</td></tr>",
                            "<tr><td>7</td><td>Audi_Q5</td><td>{&quot;make&quot;: &quot;Audi&quot;, &quot;type&quot;: &quot;car&quot;, &quot;year&quot;: &quot;2022&quot;, &quot;body_type&quot;: &quot;SUV&quot;, &quot;engine_type&quot;: &quot;V6&quot;, &quot;transmission&quot;: &quot;manual&quot;}</td></tr>",
                            "<tr><td>8</td><td>MercedesBenz_CClass</td><td>{&quot;make&quot;: &quot;Mercedes-Benz&quot;, &quot;type&quot;: &quot;car&quot;, &quot;year&quot;: &quot;2018&quot;, &quot;body_type&quot;: &quot;sedan&quot;, &quot;engine_type&quot;: &quot;V6&quot;, &quot;transmission&quot;: &quot;automatic&quot;}</td></tr>",
                            "<tr><td>9</td><td>Hyundai_Tucson</td><td>{&quot;make&quot;: &quot;Hyundai&quot;, &quot;type&quot;: &quot;car&quot;, &quot;year&quot;: &quot;2019&quot;, &quot;body_type&quot;: &quot;SUV&quot;, &quot;engine_type&quot;: &quot;V4&quot;, &quot;transmission&quot;: &quot;manual&quot;}</td></tr>",
                            "<tr><td>10</td><td>Kia_Optima</td><td>{&quot;make&quot;: &quot;Kia&quot;, &quot;type&quot;: &quot;car&quot;, &quot;year&quot;: &quot;2020&quot;, &quot;body_type&quot;: &quot;sedan&quot;, &quot;engine_type&quot;: &quot;V4&quot;, &quot;transmission&quot;: &quot;automatic&quot;}</td></tr>",
                            "<tr><td>11</td><td>Mazda_3</td><td>{&quot;make&quot;: &quot;Mazda&quot;, &quot;type&quot;: &quot;car&quot;, &quot;year&quot;: &quot;2021&quot;, &quot;body_type&quot;: &quot;hatchback&quot;, &quot;engine_type&quot;: &quot;V6&quot;, &quot;transmission&quot;: &quot;manual&quot;}</td></tr>",
                            "<tr><td>12</td><td>Nissan_Rogue</td><td>{&quot;make&quot;: &quot;Nissan&quot;, &quot;type&quot;: &quot;car&quot;, &quot;year&quot;: &quot;2019&quot;, &quot;body_type&quot;: &quot;SUV&quot;, &quot;engine_type&quot;: &quot;V4&quot;, &quot;transmission&quot;: &quot;automatic&quot;}</td></tr>",
                            "<tr><td>13</td><td>Tesla_Model_3</td><td>{&quot;make&quot;: &quot;Tesla&quot;, &quot;type&quot;: &quot;car&quot;, &quot;year&quot;: &quot;2021&quot;, &quot;body_type&quot;: &quot;sedan&quot;, &quot;engine_type&quot;: &quot;electric&quot;, &quot;transmission&quot;: &quot;automatic&quot;}</td></tr>",
                            "<tr><td>14</td><td>Subaru_Forester</td><td>{&quot;make&quot;: &quot;Subaru&quot;, &quot;type&quot;: &quot;car&quot;, &quot;year&quot;: &quot;2020&quot;, &quot;body_type&quot;: &quot;SUV&quot;, &quot;engine_type&quot;: &quot;V4&quot;, &quot;transmission&quot;: &quot;manual&quot;}</td></tr>",
                            "<tr><td>15</td><td>Volkswagen_Jetta</td><td>{&quot;make&quot;: &quot;Volkswagen&quot;, &quot;type&quot;: &quot;car&quot;, &quot;year&quot;: &quot;2022&quot;, &quot;body_type&quot;: &quot;sedan&quot;, &quot;engine_type&quot;: &quot;V4&quot;, &quot;transmission&quot;: &quot;automatic&quot;}</td></tr>",
                            "<tr><td>16</td><td>Chevrolet_Equinox</td><td>{&quot;make&quot;: &quot;Chevrolet&quot;, &quot;type&quot;: &quot;car&quot;, &quot;year&quot;: &quot;2021&quot;, &quot;body_type&quot;: &quot;SUV&quot;, &quot;engine_type&quot;: &quot;V6&quot;, &quot;transmission&quot;: &quot;manual&quot;}</td></tr>",
                            "<tr><td>17</td><td>Toyota_RAV4</td><td>{&quot;make&quot;: &quot;Toyota&quot;, &quot;type&quot;: &quot;car&quot;, &quot;year&quot;: &quot;2019&quot;, &quot;body_type&quot;: &quot;SUV&quot;, &quot;engine_type&quot;: &quot;V4&quot;, &quot;transmission&quot;: &quot;automatic&quot;}</td></tr>",
                            "<tr><td>18</td><td>Honda_Accord</td><td>{&quot;make&quot;: &quot;Honda&quot;, &quot;type&quot;: &quot;car&quot;, &quot;year&quot;: &quot;2020&quot;, &quot;body_type&quot;: &quot;sedan&quot;, &quot;engine_type&quot;: &quot;V4&quot;, &quot;transmission&quot;: &quot;manual&quot;}</td></tr>",
                            "<tr><td>19</td><td>Ford_Escape</td><td>{&quot;make&quot;: &quot;Ford&quot;, &quot;type&quot;: &quot;car&quot;, &quot;year&quot;: &quot;2021&quot;, &quot;body_type&quot;: &quot;SUV&quot;, &quot;engine_type&quot;: &quot;V6&quot;, &quot;transmission&quot;: &quot;automatic&quot;}</td></tr>",
                            "<tr><td>20</td><td>BMW_X5</td><td>{&quot;make&quot;: &quot;BMW&quot;, &quot;type&quot;: &quot;car&quot;, &quot;year&quot;: &quot;2019&quot;, &quot;body_type&quot;: &quot;SUV&quot;, &quot;engine_type&quot;: &quot;V8&quot;, &quot;transmission&quot;: &quot;manual&quot;}</td></tr>",
                            "<tr><td>21</td><td>Audi_A4</td><td>{&quot;make&quot;: &quot;Audi&quot;, &quot;type&quot;: &quot;car&quot;, &quot;year&quot;: &quot;2020&quot;, &quot;body_type&quot;: &quot;sedan&quot;, &quot;engine_type&quot;: &quot;V6&quot;, &quot;transmission&quot;: &quot;automatic&quot;}</td></tr>",
                            "<tr><td>22</td><td>Jeep_Grand_Cherokee</td><td>{&quot;make&quot;: &quot;Jeep&quot;, &quot;type&quot;: &quot;car&quot;, &quot;year&quot;: &quot;2022&quot;, &quot;body_type&quot;: &quot;SUV&quot;, &quot;engine_type&quot;: &quot;V6&quot;, &quot;transmission&quot;: &quot;manual&quot;}</td></tr>",
                            "<tr><td>23</td><td>test_bike</td><td>{&quot;make&quot;: &quot;honda&quot;, &quot;type&quot;: &quot;bike&quot;, &quot;year&quot;: &quot;2020&quot;, &quot;engine_type&quot;: &quot;2 stroke&quot;, &quot;transmission&quot;: &quot;manual&quot;}</td></tr>",
                            "<tr><td>24</td><td>Honda CB500X</td><td>{&quot;make&quot;: &quot;Honda&quot;, &quot;type&quot;: &quot;bike&quot;, &quot;year&quot;: &quot;2021&quot;, &quot;engine_type&quot;: &quot;2-cylinder&quot;, &quot;transmission&quot;: &quot;manual&quot;}</td></tr>",
                            "<tr><td>25</td><td>Yamaha YZF-R3</td><td>{&quot;make&quot;: &quot;Yamaha&quot;, &quot;type&quot;: &quot;bike&quot;, &quot;year&quot;: &quot;2022&quot;, &quot;engine_type&quot;: &quot;2-cylinder&quot;, &quot;transmission&quot;: &quot;manual&quot;}</td></tr>",
                            "<tr><td>26</td><td>Kawasaki Ninja 400</td><td>{&quot;make&quot;: &quot;Kawasaki&quot;, &quot;type&quot;: &quot;bike&quot;, &quot;year&quot;: &quot;2022&quot;, &quot;engine_type&quot;: &quot;2-cylinder&quot;, &quot;transmission&quot;: &quot;manual&quot;}</td></tr>",
                            "<tr><td>27</td><td>Suzuki GSX250R</td><td>{&quot;make&quot;: &quot;Suzuki&quot;, &quot;type&quot;: &quot;bike&quot;, &quot;year&quot;: &quot;2021&quot;, &quot;engine_type&quot;: &quot;2-cylinder&quot;, &quot;transmission&quot;: &quot;manual&quot;}</td></tr>",
                            "<tr><td>28</td><td>BMW G310GS</td><td>{&quot;make&quot;: &quot;BMW&quot;, &quot;type&quot;: &quot;bike&quot;, &quot;year&quot;: &quot;2022&quot;, &quot;engine_type&quot;: &quot;1-cylinder&quot;, &quot;transmission&quot;: &quot;manual&quot;}</td></tr>",
                            "<tr><td>29</td><td>Ducati Panigale V4</td><td>{&quot;make&quot;: &quot;Ducati&quot;, &quot;type&quot;: &quot;bike&quot;, &quot;year&quot;: &quot;2021&quot;, &quot;engine_type&quot;: &quot;V4&quot;, &quot;transmission&quot;: &quot;manual&quot;}</td></tr>",
                            "<tr><td>30</td><td>Triumph Street Triple R</td><td>{&quot;make&quot;: &quot;Triumph&quot;, &quot;type&quot;: &quot;bike&quot;, &quot;year&quot;: &quot;2022&quot;, &quot;engine_type&quot;: &quot;3-cylinder&quot;, &quot;transmission&quot;: &quot;manual&quot;}</td></tr>",
                            "<tr><td>31</td><td>KTM 390 Duke</td><td>{&quot;make&quot;: &quot;KTM&quot;, &quot;type&quot;: &quot;bike&quot;, &quot;year&quot;: &quot;2022&quot;, &quot;engine_type&quot;: &quot;1-cylinder&quot;, &quot;transmission&quot;: &quot;manual&quot;}</td></tr>",
                            "<tr><td>32</td><td>Harley-Davidson Iron 883</td><td>{&quot;make&quot;: &quot;Harley-Davidson&quot;, &quot;type&quot;: &quot;bike&quot;, &quot;year&quot;: &quot;2021&quot;, &quot;engine_type&quot;: &quot;V-Twin&quot;, &quot;transmission&quot;: &quot;manual&quot;}</td></tr>",
                            "<tr><td>33</td><td>Royal Enfield Interceptor 650</td><td>{&quot;make&quot;: &quot;Royal Enfield&quot;, &quot;type&quot;: &quot;bike&quot;, &quot;year&quot;: &quot;2022&quot;, &quot;engine_type&quot;: &quot;2-cylinder&quot;, &quot;transmission&quot;: &quot;manual&quot;}</td></tr>",
                            "<tr><td>34</td><td>Aprilia RS 660</td><td>{&quot;make&quot;: &quot;Aprilia&quot;, &quot;type&quot;: &quot;bike&quot;, &quot;year&quot;: &quot;2021&quot;, &quot;engine_type&quot;: &quot;2-cylinder&quot;, &quot;transmission&quot;: &quot;manual&quot;}</td></tr>",
                            "<tr><td>35</td><td>Husqvarna Svartpilen 401</td><td>{&quot;make&quot;: &quot;Husqvarna&quot;, &quot;type&quot;: &quot;bike&quot;, &quot;year&quot;: &quot;2022&quot;, &quot;engine_type&quot;: &quot;1-cylinder&quot;, &quot;transmission&quot;: &quot;manual&quot;}</td></tr>",
                            "<tr><td>36</td><td>Indian Scout Bobber</td><td>{&quot;make&quot;: &quot;Indian Motorcycle&quot;, &quot;type&quot;: &quot;bike&quot;, &quot;year&quot;: &quot;2021&quot;, &quot;engine_type&quot;: &quot;V-Twin&quot;, &quot;transmission&quot;: &quot;manual&quot;}</td></tr>",
                            "<tr><td>37</td><td>MV Agusta Brutale 800</td><td>{&quot;make&quot;: &quot;MV Agusta&quot;, &quot;type&quot;: &quot;bike&quot;, &quot;year&quot;: &quot;2022&quot;, &quot;engine_type&quot;: &quot;3-cylinder&quot;, &quot;transmission&quot;: &quot;manual&quot;}</td></tr>",
                            "<tr><td>38</td><td>Benelli Leoncino 500</td><td>{&quot;make&quot;: &quot;Benelli&quot;, &quot;type&quot;: &quot;bike&quot;, &quot;year&quot;: &quot;2021&quot;, &quot;engine_type&quot;: &quot;2-cylinder&quot;, &quot;transmission&quot;: &quot;manual&quot;}</td></tr>",
                            "<tr><td>39</td><td>BMW S1000RR</td><td>{&quot;make&quot;: &quot;BMW&quot;, &quot;type&quot;: &quot;bike&quot;, &quot;year&quot;: &quot;2022&quot;, &quot;engine_type&quot;: &quot;4-cylinder&quot;, &quot;transmission&quot;: &quot;manual&quot;}</td></tr>",
                            "<tr><td>40</td><td>Kawasaki Z900RS</td><td>{&quot;make&quot;: &quot;Kawasaki&quot;, &quot;type&quot;: &quot;bike&quot;, &quot;year&quot;: &quot;2021&quot;, &quot;engine_type&quot;: &quot;4-cylinder&quot;, &quot;transmission&quot;: &quot;manual&quot;}</td></tr>",
                            "<tr><td>41</td><td>Ducati Scrambler 800</td><td>{&quot;make&quot;: &quot;Ducati&quot;, &quot;type&quot;: &quot;bike&quot;, &quot;year&quot;: &quot;2022&quot;, &quot;engine_type&quot;: &quot;L-Twin&quot;, &quot;transmission&quot;: &quot;manual&quot;}</td></tr>",
                            "<tr><td>42</td><td>Honda CBR600RR</td><td>{&quot;make&quot;: &quot;Honda&quot;, &quot;type&quot;: &quot;bike&quot;, &quot;year&quot;: &quot;2021&quot;, &quot;engine_type&quot;: &quot;4-cylinder&quot;, &quot;transmission&quot;: &quot;manual&quot;}</td></tr>",
                            "<tr><td>43</td><td>Yamaha MT-09</td><td>{&quot;make&quot;: &quot;Yamaha&quot;, &quot;type&quot;: &quot;bike&quot;, &quot;year&quot;: &quot;2022&quot;, &quot;engine_type&quot;: &quot;3-cylinder&quot;, &quot;transmission&quot;: &quot;manual&quot;}</td></tr>",
                            "<tr><td>44</td><td>Suzuki V-Strom 650</td><td>{&quot;make&quot;: &quot;Suzuki&quot;, &quot;type&quot;: &quot;bike&quot;, &quot;year&quot;: &quot;2021&quot;, &quot;engine_type&quot;: &quot;V-Twin&quot;, &quot;transmission&quot;: &quot;manual&quot;}</td></tr>",
                            "<tr><td>45</td><td>Aprilia Tuono 660</td><td>{&quot;make&quot;: &quot;Aprilia&quot;, &quot;type&quot;: &quot;bike&quot;, &quot;year&quot;: &quot;2022&quot;, &quot;engine_type&quot;: &quot;2-cylinder&quot;, &quot;transmission&quot;: &quot;manual&quot;}</td></tr>",
                            "<tr><td>46</td><td>Harley-Davidson Fat Boy</td><td>{&quot;make&quot;: &quot;Harley-Davidson&quot;, &quot;type&quot;: &quot;bike&quot;, &quot;year&quot;: &quot;2021&quot;, &quot;engine_type&quot;: &quot;V-Twin&quot;, &quot;transmission&quot;: &quot;manual&quot;}</td></tr>",
                            "<tr><td>47</td><td>Royal Enfield Himalayan</td><td>{&quot;make&quot;: &quot;Royal Enfield&quot;, &quot;type&quot;: &quot;bike&quot;, &quot;year&quot;: &quot;2022&quot;, &quot;engine_type&quot;: &quot;1-cylinder&quot;, &quot;transmission&quot;: &quot;manual&quot;}</td></tr>",
                            "<tr><td>48</td><td>KTM 1290 Super Duke R</td><td>{&quot;make&quot;: &quot;KTM&quot;, &quot;type&quot;: &quot;bike&quot;, &quot;year&quot;: &quot;2021&quot;, &quot;engine_type&quot;: &quot;V-Twin&quot;, &quot;transmission&quot;: &quot;manual&quot;}</td></tr>",
                            "</table>"
                        ]
                    }
                }
            ],
            "execution_count": 7
        },
        {
            "cell_type": "code",
            "source": [
                "SELECT * from ft.vehicle where data ->> 'type'='bike'"
            ],
            "metadata": {
                "azdata_cell_guid": "a7ba3058-15d9-4cb3-8f65-8efd987481fa",
                "language": "sql"
            },
            "outputs": [
                {
                    "output_type": "display_data",
                    "data": {
                        "text/html": "(26 row(s) affected)"
                    },
                    "metadata": {}
                },
                {
                    "output_type": "display_data",
                    "data": {
                        "text/html": "Total execution time: 00:00:00.005"
                    },
                    "metadata": {}
                },
                {
                    "output_type": "execute_result",
                    "metadata": {},
                    "execution_count": 8,
                    "data": {
                        "application/vnd.dataresource+json": {
                            "schema": {
                                "fields": [
                                    {
                                        "name": "id"
                                    },
                                    {
                                        "name": "name"
                                    },
                                    {
                                        "name": "data"
                                    }
                                ]
                            },
                            "data": [
                                {
                                    "id": "23",
                                    "name": "test_bike",
                                    "data": "{\"make\": \"honda\", \"type\": \"bike\", \"year\": \"2020\", \"engine_type\": \"2 stroke\", \"transmission\": \"manual\"}"
                                },
                                {
                                    "id": "24",
                                    "name": "Honda CB500X",
                                    "data": "{\"make\": \"Honda\", \"type\": \"bike\", \"year\": \"2021\", \"engine_type\": \"2-cylinder\", \"transmission\": \"manual\"}"
                                },
                                {
                                    "id": "25",
                                    "name": "Yamaha YZF-R3",
                                    "data": "{\"make\": \"Yamaha\", \"type\": \"bike\", \"year\": \"2022\", \"engine_type\": \"2-cylinder\", \"transmission\": \"manual\"}"
                                },
                                {
                                    "id": "26",
                                    "name": "Kawasaki Ninja 400",
                                    "data": "{\"make\": \"Kawasaki\", \"type\": \"bike\", \"year\": \"2022\", \"engine_type\": \"2-cylinder\", \"transmission\": \"manual\"}"
                                },
                                {
                                    "id": "27",
                                    "name": "Suzuki GSX250R",
                                    "data": "{\"make\": \"Suzuki\", \"type\": \"bike\", \"year\": \"2021\", \"engine_type\": \"2-cylinder\", \"transmission\": \"manual\"}"
                                },
                                {
                                    "id": "28",
                                    "name": "BMW G310GS",
                                    "data": "{\"make\": \"BMW\", \"type\": \"bike\", \"year\": \"2022\", \"engine_type\": \"1-cylinder\", \"transmission\": \"manual\"}"
                                },
                                {
                                    "id": "29",
                                    "name": "Ducati Panigale V4",
                                    "data": "{\"make\": \"Ducati\", \"type\": \"bike\", \"year\": \"2021\", \"engine_type\": \"V4\", \"transmission\": \"manual\"}"
                                },
                                {
                                    "id": "30",
                                    "name": "Triumph Street Triple R",
                                    "data": "{\"make\": \"Triumph\", \"type\": \"bike\", \"year\": \"2022\", \"engine_type\": \"3-cylinder\", \"transmission\": \"manual\"}"
                                },
                                {
                                    "id": "31",
                                    "name": "KTM 390 Duke",
                                    "data": "{\"make\": \"KTM\", \"type\": \"bike\", \"year\": \"2022\", \"engine_type\": \"1-cylinder\", \"transmission\": \"manual\"}"
                                },
                                {
                                    "id": "32",
                                    "name": "Harley-Davidson Iron 883",
                                    "data": "{\"make\": \"Harley-Davidson\", \"type\": \"bike\", \"year\": \"2021\", \"engine_type\": \"V-Twin\", \"transmission\": \"manual\"}"
                                },
                                {
                                    "id": "33",
                                    "name": "Royal Enfield Interceptor 650",
                                    "data": "{\"make\": \"Royal Enfield\", \"type\": \"bike\", \"year\": \"2022\", \"engine_type\": \"2-cylinder\", \"transmission\": \"manual\"}"
                                },
                                {
                                    "id": "34",
                                    "name": "Aprilia RS 660",
                                    "data": "{\"make\": \"Aprilia\", \"type\": \"bike\", \"year\": \"2021\", \"engine_type\": \"2-cylinder\", \"transmission\": \"manual\"}"
                                },
                                {
                                    "id": "35",
                                    "name": "Husqvarna Svartpilen 401",
                                    "data": "{\"make\": \"Husqvarna\", \"type\": \"bike\", \"year\": \"2022\", \"engine_type\": \"1-cylinder\", \"transmission\": \"manual\"}"
                                },
                                {
                                    "id": "36",
                                    "name": "Indian Scout Bobber",
                                    "data": "{\"make\": \"Indian Motorcycle\", \"type\": \"bike\", \"year\": \"2021\", \"engine_type\": \"V-Twin\", \"transmission\": \"manual\"}"
                                },
                                {
                                    "id": "37",
                                    "name": "MV Agusta Brutale 800",
                                    "data": "{\"make\": \"MV Agusta\", \"type\": \"bike\", \"year\": \"2022\", \"engine_type\": \"3-cylinder\", \"transmission\": \"manual\"}"
                                },
                                {
                                    "id": "38",
                                    "name": "Benelli Leoncino 500",
                                    "data": "{\"make\": \"Benelli\", \"type\": \"bike\", \"year\": \"2021\", \"engine_type\": \"2-cylinder\", \"transmission\": \"manual\"}"
                                },
                                {
                                    "id": "39",
                                    "name": "BMW S1000RR",
                                    "data": "{\"make\": \"BMW\", \"type\": \"bike\", \"year\": \"2022\", \"engine_type\": \"4-cylinder\", \"transmission\": \"manual\"}"
                                },
                                {
                                    "id": "40",
                                    "name": "Kawasaki Z900RS",
                                    "data": "{\"make\": \"Kawasaki\", \"type\": \"bike\", \"year\": \"2021\", \"engine_type\": \"4-cylinder\", \"transmission\": \"manual\"}"
                                },
                                {
                                    "id": "41",
                                    "name": "Ducati Scrambler 800",
                                    "data": "{\"make\": \"Ducati\", \"type\": \"bike\", \"year\": \"2022\", \"engine_type\": \"L-Twin\", \"transmission\": \"manual\"}"
                                },
                                {
                                    "id": "42",
                                    "name": "Honda CBR600RR",
                                    "data": "{\"make\": \"Honda\", \"type\": \"bike\", \"year\": \"2021\", \"engine_type\": \"4-cylinder\", \"transmission\": \"manual\"}"
                                },
                                {
                                    "id": "43",
                                    "name": "Yamaha MT-09",
                                    "data": "{\"make\": \"Yamaha\", \"type\": \"bike\", \"year\": \"2022\", \"engine_type\": \"3-cylinder\", \"transmission\": \"manual\"}"
                                },
                                {
                                    "id": "44",
                                    "name": "Suzuki V-Strom 650",
                                    "data": "{\"make\": \"Suzuki\", \"type\": \"bike\", \"year\": \"2021\", \"engine_type\": \"V-Twin\", \"transmission\": \"manual\"}"
                                },
                                {
                                    "id": "45",
                                    "name": "Aprilia Tuono 660",
                                    "data": "{\"make\": \"Aprilia\", \"type\": \"bike\", \"year\": \"2022\", \"engine_type\": \"2-cylinder\", \"transmission\": \"manual\"}"
                                },
                                {
                                    "id": "46",
                                    "name": "Harley-Davidson Fat Boy",
                                    "data": "{\"make\": \"Harley-Davidson\", \"type\": \"bike\", \"year\": \"2021\", \"engine_type\": \"V-Twin\", \"transmission\": \"manual\"}"
                                },
                                {
                                    "id": "47",
                                    "name": "Royal Enfield Himalayan",
                                    "data": "{\"make\": \"Royal Enfield\", \"type\": \"bike\", \"year\": \"2022\", \"engine_type\": \"1-cylinder\", \"transmission\": \"manual\"}"
                                },
                                {
                                    "id": "48",
                                    "name": "KTM 1290 Super Duke R",
                                    "data": "{\"make\": \"KTM\", \"type\": \"bike\", \"year\": \"2021\", \"engine_type\": \"V-Twin\", \"transmission\": \"manual\"}"
                                }
                            ]
                        },
                        "text/html": [
                            "<table>",
                            "<tr><th>id</th><th>name</th><th>data</th></tr>",
                            "<tr><td>23</td><td>test_bike</td><td>{&quot;make&quot;: &quot;honda&quot;, &quot;type&quot;: &quot;bike&quot;, &quot;year&quot;: &quot;2020&quot;, &quot;engine_type&quot;: &quot;2 stroke&quot;, &quot;transmission&quot;: &quot;manual&quot;}</td></tr>",
                            "<tr><td>24</td><td>Honda CB500X</td><td>{&quot;make&quot;: &quot;Honda&quot;, &quot;type&quot;: &quot;bike&quot;, &quot;year&quot;: &quot;2021&quot;, &quot;engine_type&quot;: &quot;2-cylinder&quot;, &quot;transmission&quot;: &quot;manual&quot;}</td></tr>",
                            "<tr><td>25</td><td>Yamaha YZF-R3</td><td>{&quot;make&quot;: &quot;Yamaha&quot;, &quot;type&quot;: &quot;bike&quot;, &quot;year&quot;: &quot;2022&quot;, &quot;engine_type&quot;: &quot;2-cylinder&quot;, &quot;transmission&quot;: &quot;manual&quot;}</td></tr>",
                            "<tr><td>26</td><td>Kawasaki Ninja 400</td><td>{&quot;make&quot;: &quot;Kawasaki&quot;, &quot;type&quot;: &quot;bike&quot;, &quot;year&quot;: &quot;2022&quot;, &quot;engine_type&quot;: &quot;2-cylinder&quot;, &quot;transmission&quot;: &quot;manual&quot;}</td></tr>",
                            "<tr><td>27</td><td>Suzuki GSX250R</td><td>{&quot;make&quot;: &quot;Suzuki&quot;, &quot;type&quot;: &quot;bike&quot;, &quot;year&quot;: &quot;2021&quot;, &quot;engine_type&quot;: &quot;2-cylinder&quot;, &quot;transmission&quot;: &quot;manual&quot;}</td></tr>",
                            "<tr><td>28</td><td>BMW G310GS</td><td>{&quot;make&quot;: &quot;BMW&quot;, &quot;type&quot;: &quot;bike&quot;, &quot;year&quot;: &quot;2022&quot;, &quot;engine_type&quot;: &quot;1-cylinder&quot;, &quot;transmission&quot;: &quot;manual&quot;}</td></tr>",
                            "<tr><td>29</td><td>Ducati Panigale V4</td><td>{&quot;make&quot;: &quot;Ducati&quot;, &quot;type&quot;: &quot;bike&quot;, &quot;year&quot;: &quot;2021&quot;, &quot;engine_type&quot;: &quot;V4&quot;, &quot;transmission&quot;: &quot;manual&quot;}</td></tr>",
                            "<tr><td>30</td><td>Triumph Street Triple R</td><td>{&quot;make&quot;: &quot;Triumph&quot;, &quot;type&quot;: &quot;bike&quot;, &quot;year&quot;: &quot;2022&quot;, &quot;engine_type&quot;: &quot;3-cylinder&quot;, &quot;transmission&quot;: &quot;manual&quot;}</td></tr>",
                            "<tr><td>31</td><td>KTM 390 Duke</td><td>{&quot;make&quot;: &quot;KTM&quot;, &quot;type&quot;: &quot;bike&quot;, &quot;year&quot;: &quot;2022&quot;, &quot;engine_type&quot;: &quot;1-cylinder&quot;, &quot;transmission&quot;: &quot;manual&quot;}</td></tr>",
                            "<tr><td>32</td><td>Harley-Davidson Iron 883</td><td>{&quot;make&quot;: &quot;Harley-Davidson&quot;, &quot;type&quot;: &quot;bike&quot;, &quot;year&quot;: &quot;2021&quot;, &quot;engine_type&quot;: &quot;V-Twin&quot;, &quot;transmission&quot;: &quot;manual&quot;}</td></tr>",
                            "<tr><td>33</td><td>Royal Enfield Interceptor 650</td><td>{&quot;make&quot;: &quot;Royal Enfield&quot;, &quot;type&quot;: &quot;bike&quot;, &quot;year&quot;: &quot;2022&quot;, &quot;engine_type&quot;: &quot;2-cylinder&quot;, &quot;transmission&quot;: &quot;manual&quot;}</td></tr>",
                            "<tr><td>34</td><td>Aprilia RS 660</td><td>{&quot;make&quot;: &quot;Aprilia&quot;, &quot;type&quot;: &quot;bike&quot;, &quot;year&quot;: &quot;2021&quot;, &quot;engine_type&quot;: &quot;2-cylinder&quot;, &quot;transmission&quot;: &quot;manual&quot;}</td></tr>",
                            "<tr><td>35</td><td>Husqvarna Svartpilen 401</td><td>{&quot;make&quot;: &quot;Husqvarna&quot;, &quot;type&quot;: &quot;bike&quot;, &quot;year&quot;: &quot;2022&quot;, &quot;engine_type&quot;: &quot;1-cylinder&quot;, &quot;transmission&quot;: &quot;manual&quot;}</td></tr>",
                            "<tr><td>36</td><td>Indian Scout Bobber</td><td>{&quot;make&quot;: &quot;Indian Motorcycle&quot;, &quot;type&quot;: &quot;bike&quot;, &quot;year&quot;: &quot;2021&quot;, &quot;engine_type&quot;: &quot;V-Twin&quot;, &quot;transmission&quot;: &quot;manual&quot;}</td></tr>",
                            "<tr><td>37</td><td>MV Agusta Brutale 800</td><td>{&quot;make&quot;: &quot;MV Agusta&quot;, &quot;type&quot;: &quot;bike&quot;, &quot;year&quot;: &quot;2022&quot;, &quot;engine_type&quot;: &quot;3-cylinder&quot;, &quot;transmission&quot;: &quot;manual&quot;}</td></tr>",
                            "<tr><td>38</td><td>Benelli Leoncino 500</td><td>{&quot;make&quot;: &quot;Benelli&quot;, &quot;type&quot;: &quot;bike&quot;, &quot;year&quot;: &quot;2021&quot;, &quot;engine_type&quot;: &quot;2-cylinder&quot;, &quot;transmission&quot;: &quot;manual&quot;}</td></tr>",
                            "<tr><td>39</td><td>BMW S1000RR</td><td>{&quot;make&quot;: &quot;BMW&quot;, &quot;type&quot;: &quot;bike&quot;, &quot;year&quot;: &quot;2022&quot;, &quot;engine_type&quot;: &quot;4-cylinder&quot;, &quot;transmission&quot;: &quot;manual&quot;}</td></tr>",
                            "<tr><td>40</td><td>Kawasaki Z900RS</td><td>{&quot;make&quot;: &quot;Kawasaki&quot;, &quot;type&quot;: &quot;bike&quot;, &quot;year&quot;: &quot;2021&quot;, &quot;engine_type&quot;: &quot;4-cylinder&quot;, &quot;transmission&quot;: &quot;manual&quot;}</td></tr>",
                            "<tr><td>41</td><td>Ducati Scrambler 800</td><td>{&quot;make&quot;: &quot;Ducati&quot;, &quot;type&quot;: &quot;bike&quot;, &quot;year&quot;: &quot;2022&quot;, &quot;engine_type&quot;: &quot;L-Twin&quot;, &quot;transmission&quot;: &quot;manual&quot;}</td></tr>",
                            "<tr><td>42</td><td>Honda CBR600RR</td><td>{&quot;make&quot;: &quot;Honda&quot;, &quot;type&quot;: &quot;bike&quot;, &quot;year&quot;: &quot;2021&quot;, &quot;engine_type&quot;: &quot;4-cylinder&quot;, &quot;transmission&quot;: &quot;manual&quot;}</td></tr>",
                            "<tr><td>43</td><td>Yamaha MT-09</td><td>{&quot;make&quot;: &quot;Yamaha&quot;, &quot;type&quot;: &quot;bike&quot;, &quot;year&quot;: &quot;2022&quot;, &quot;engine_type&quot;: &quot;3-cylinder&quot;, &quot;transmission&quot;: &quot;manual&quot;}</td></tr>",
                            "<tr><td>44</td><td>Suzuki V-Strom 650</td><td>{&quot;make&quot;: &quot;Suzuki&quot;, &quot;type&quot;: &quot;bike&quot;, &quot;year&quot;: &quot;2021&quot;, &quot;engine_type&quot;: &quot;V-Twin&quot;, &quot;transmission&quot;: &quot;manual&quot;}</td></tr>",
                            "<tr><td>45</td><td>Aprilia Tuono 660</td><td>{&quot;make&quot;: &quot;Aprilia&quot;, &quot;type&quot;: &quot;bike&quot;, &quot;year&quot;: &quot;2022&quot;, &quot;engine_type&quot;: &quot;2-cylinder&quot;, &quot;transmission&quot;: &quot;manual&quot;}</td></tr>",
                            "<tr><td>46</td><td>Harley-Davidson Fat Boy</td><td>{&quot;make&quot;: &quot;Harley-Davidson&quot;, &quot;type&quot;: &quot;bike&quot;, &quot;year&quot;: &quot;2021&quot;, &quot;engine_type&quot;: &quot;V-Twin&quot;, &quot;transmission&quot;: &quot;manual&quot;}</td></tr>",
                            "<tr><td>47</td><td>Royal Enfield Himalayan</td><td>{&quot;make&quot;: &quot;Royal Enfield&quot;, &quot;type&quot;: &quot;bike&quot;, &quot;year&quot;: &quot;2022&quot;, &quot;engine_type&quot;: &quot;1-cylinder&quot;, &quot;transmission&quot;: &quot;manual&quot;}</td></tr>",
                            "<tr><td>48</td><td>KTM 1290 Super Duke R</td><td>{&quot;make&quot;: &quot;KTM&quot;, &quot;type&quot;: &quot;bike&quot;, &quot;year&quot;: &quot;2021&quot;, &quot;engine_type&quot;: &quot;V-Twin&quot;, &quot;transmission&quot;: &quot;manual&quot;}</td></tr>",
                            "</table>"
                        ]
                    }
                }
            ],
            "execution_count": 8
        }
    ]
}