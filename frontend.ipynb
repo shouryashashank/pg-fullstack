{
    "metadata": {
        "kernelspec": {
            "name": "SQL",
            "display_name": "SQL",
            "language": "sql"
        },
        "language_info": {
            "name": "sql",
            "version": ""
        }
    },
    "nbformat_minor": 2,
    "nbformat": 4,
    "cells": [
        {
            "cell_type": "code",
            "source": [
                "-- Add media type handler for `text/html` requests\r\n",
                "CREATE DOMAIN \"text/html\" AS TEXT;"
            ],
            "metadata": {
                "azdata_cell_guid": "fdb0db5d-c6a1-4228-bd4f-10135fc02aae",
                "language": "sql"
            },
            "outputs": [
                {
                    "output_type": "display_data",
                    "data": {
                        "text/html": "CREATE DOMAIN"
                    },
                    "metadata": {}
                },
                {
                    "output_type": "display_data",
                    "data": {
                        "text/html": "Total execution time: 00:00:00.001"
                    },
                    "metadata": {}
                }
            ],
            "execution_count": 1
        },
        {
            "cell_type": "code",
            "source": [
                "-- Sanitize text to replace characters with HTML entities\r\n",
                "CREATE OR REPLACE FUNCTION ft.sanitize_html(text) RETURNS text AS $$\r\n",
                "  SELECT REPLACE(REPLACE(REPLACE(REPLACE(REPLACE($1, '&', '&amp;'), '\"', '&quot;'),'>', '&gt;'),'<', '&lt;'), '''', '&apos;')\r\n",
                "$$ language sql;"
            ],
            "metadata": {
                "language": "sql",
                "azdata_cell_guid": "d8f53827-9dfc-432c-89e0-0b9e9c826f9c"
            },
            "outputs": [
                {
                    "output_type": "display_data",
                    "data": {
                        "text/html": "CREATE FUNCTION"
                    },
                    "metadata": {}
                },
                {
                    "output_type": "display_data",
                    "data": {
                        "text/html": "Total execution time: 00:00:00.003"
                    },
                    "metadata": {}
                }
            ],
            "execution_count": 2
        },
        {
            "cell_type": "code",
            "source": [
                "-- Format all cars as HTML cards\r\n",
                "CREATE OR REPLACE FUNCTION ft.html_cards(ft.vehicle) RETURNS text AS $$\r\n",
                "  SELECT FORMAT($html$\r\n",
                "    <div class=\"card\">\r\n",
                "      <div class=\"card-body\">\r\n",
                "        <h5 class=\"card-title\">%2$s</h5>\r\n",
                "        <p class=\"card-text text-truncate\">%3$s</p>\r\n",
                "      </div>\r\n",
                "    </div>\r\n",
                "  $html$,\r\n",
                "  $1.id,\r\n",
                "  ft.sanitize_html($1.name),\r\n",
                "  $1.data\r\n",
                "  );\r\n",
                "$$ language sql stable;"
            ],
            "metadata": {
                "language": "sql",
                "azdata_cell_guid": "bb16cdb4-9d1d-4e86-a0b1-4def7070bbd9"
            },
            "outputs": [
                {
                    "output_type": "display_data",
                    "data": {
                        "text/html": "CREATE FUNCTION"
                    },
                    "metadata": {}
                },
                {
                    "output_type": "display_data",
                    "data": {
                        "text/html": "Total execution time: 00:00:00.001"
                    },
                    "metadata": {}
                }
            ],
            "execution_count": 7
        },
        {
            "cell_type": "code",
            "source": [
                "-- Create HTML to display all notes\r\n",
                "CREATE OR REPLACE FUNCTION ft.html_all_vehicle() RETURNS text AS $$\r\n",
                "  SELECT COALESCE(\r\n",
                "    '<div class=\"card-columns\">'\r\n",
                "      || string_agg(ft.html_cards(n), '' ORDER BY n.id) ||\r\n",
                "    '</div>',\r\n",
                "    '<p class=\"\">No notes.</p>'\r\n",
                "  )\r\n",
                "  FROM ft.vehicle n;\r\n",
                "$$ language sql;\r\n",
                ""
            ],
            "metadata": {
                "language": "sql",
                "azdata_cell_guid": "7e93bd24-b5b8-4848-937b-8207586d1eba"
            },
            "outputs": [
                {
                    "output_type": "display_data",
                    "data": {
                        "text/html": "CREATE FUNCTION"
                    },
                    "metadata": {}
                },
                {
                    "output_type": "display_data",
                    "data": {
                        "text/html": "Total execution time: 00:00:00.002"
                    },
                    "metadata": {}
                }
            ],
            "execution_count": 9
        },
        {
            "cell_type": "code",
            "source": [
                "\r\n",
                "-- Generate page to display notes\r\n",
                "CREATE OR REPLACE FUNCTION ft.index() RETURNS \"text/html\" AS $$\r\n",
                "  SELECT $html$\r\n",
                "    <!DOCTYPE html>\r\n",
                "    <html lang=\"en\">\r\n",
                "    <head>\r\n",
                "      <meta charset=\"UTF-8\">\r\n",
                "      <meta name=\"viewport\" content=\"width=device-width, initial-scale=1.0\">\r\n",
                "      <title>Note Taking App</title>\r\n",
                "      <link rel=\"stylesheet\" href=\"https://maxcdn.bootstrapcdn.com/bootstrap/4.5.2/css/bootstrap.min.css\">\r\n",
                "    </head>\r\n",
                "\r\n",
                "    <body>\r\n",
                "      <nav class=\"navbar navbar-expand-lg navbar-dark bg-dark\">\r\n",
                "        <a class=\"navbar-brand\" href=\"/rpc/index\">Full stack postgres vehicle app</a>\r\n",
                "        <button class=\"navbar-toggler\" type=\"button\" data-toggle=\"collapse\" data-target=\"#navbarNav\"\r\n",
                "          aria-controls=\"navbarNav\" aria-expanded=\"false\" aria-label=\"Toggle navigation\">\r\n",
                "          <span class=\"navbar-toggler-icon\"></span>\r\n",
                "        </button>\r\n",
                "        <div class=\"collapse navbar-collapse\" id=\"navbarNav\">\r\n",
                "          <ul class=\"navbar-nav\">\r\n",
                "            <li class=\"nav-item active\">\r\n",
                "              <a class=\"nav-link\" href=\"/rpc/index\">Notes</a>\r\n",
                "            </li>\r\n",
                "            <li class=\"nav-item\">\r\n",
                "              <a class=\"nav-link\" href=\"/rpc/new\">Create Note</a>\r\n",
                "            </li>\r\n",
                "          </ul>\r\n",
                "        </div>\r\n",
                "      </nav>\r\n",
                "\r\n",
                "      <div class=\"container mt-4\">\r\n",
                "        <h2>Notes</h2>\r\n",
                "        $html$\r\n",
                "          || ft.html_all_vehicle() ||\r\n",
                "        $html$\r\n",
                "      </div>\r\n",
                "\r\n",
                "      <script src=\"https://code.jquery.com/jquery-3.5.1.slim.min.js\"></script>\r\n",
                "      <script src=\"https://cdn.jsdelivr.net/npm/@popperjs/core@2.9.2/dist/umd/popper.min.js\"></script>\r\n",
                "      <script src=\"https://maxcdn.bootstrapcdn.com/bootstrap/4.5.2/js/bootstrap.min.js\"></script>\r\n",
                "    </body>\r\n",
                "    </html>\r\n",
                "  $html$\r\n",
                "$$ language sql;\r\n",
                ""
            ],
            "metadata": {
                "azdata_cell_guid": "20691eea-27a6-447b-8370-f7e9d3e2adc6",
                "language": "sql"
            },
            "outputs": [],
            "execution_count": null
        }
    ]
}