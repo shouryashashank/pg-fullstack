{
    "cells": [
        {
            "cell_type": "code",
            "execution_count": 1,
            "metadata": {
                "azdata_cell_guid": "fdb0db5d-c6a1-4228-bd4f-10135fc02aae",
                "language": "sql"
            },
            "outputs": [
                {
                    "data": {
                        "text/html": [
                            "CREATE DOMAIN"
                        ]
                    },
                    "metadata": {},
                    "output_type": "display_data"
                },
                {
                    "data": {
                        "text/html": [
                            "Total execution time: 00:00:00.001"
                        ]
                    },
                    "metadata": {},
                    "output_type": "display_data"
                }
            ],
            "source": [
                "-- Add media type handler for `text/html` requests\n",
                "CREATE DOMAIN \"text/html\" AS TEXT;"
            ]
        },
        {
            "cell_type": "code",
            "execution_count": 2,
            "metadata": {
                "azdata_cell_guid": "d8f53827-9dfc-432c-89e0-0b9e9c826f9c",
                "language": "sql"
            },
            "outputs": [
                {
                    "data": {
                        "text/html": [
                            "CREATE FUNCTION"
                        ]
                    },
                    "metadata": {},
                    "output_type": "display_data"
                },
                {
                    "data": {
                        "text/html": [
                            "Total execution time: 00:00:00.003"
                        ]
                    },
                    "metadata": {},
                    "output_type": "display_data"
                }
            ],
            "source": [
                "-- Sanitize text to replace characters with HTML entities\n",
                "CREATE OR REPLACE FUNCTION ft.sanitize_html(text) RETURNS text AS $$\n",
                "  SELECT REPLACE(REPLACE(REPLACE(REPLACE(REPLACE($1, '&', '&amp;'), '\"', '&quot;'),'>', '&gt;'),'<', '&lt;'), '''', '&apos;')\n",
                "$$ language sql;"
            ]
        },
        {
            "cell_type": "code",
            "execution_count": 55,
            "metadata": {
                "azdata_cell_guid": "bb16cdb4-9d1d-4e86-a0b1-4def7070bbd9",
                "language": "sql"
            },
            "outputs": [
                {
                    "data": {
                        "text/html": [
                            "CREATE FUNCTION"
                        ]
                    },
                    "metadata": {},
                    "output_type": "display_data"
                },
                {
                    "data": {
                        "text/html": [
                            "Total execution time: 00:00:00.005"
                        ]
                    },
                    "metadata": {},
                    "output_type": "display_data"
                }
            ],
            "source": [
                "-- Format all cars as HTML cards\n",
                "CREATE OR REPLACE FUNCTION ft.html_cards(ft.vehicle) RETURNS text AS $$\n",
                "  WITH json_data AS (\n",
                "    SELECT\n",
                "      key, value\n",
                "    FROM \n",
                "      jsonb_each_text($1.data)\n",
                "  ),\n",
                "  html_table AS (\n",
                "    SELECT \n",
                "      string_agg(\n",
                "        FORMAT(\n",
                "          '<tr><td>%s</td><td>%s</td></tr>',\n",
                "          json_data.key, json_data.value\n",
                "        ),\n",
                "        ''\n",
                "      ) as table_rows\n",
                "    FROM json_data\n",
                "  )\n",
                "  SELECT FORMAT($html$\n",
                "    <div class=\"card\">\n",
                "      <div class=\"card-body\">\n",
                "        <h5 class=\"card-title\">%2$s</h5>\n",
                "        <p class=\"card-text\">\n",
                "          <table class=\"table\">\n",
                "            <tbody>\n",
                "              %4$s\n",
                "            </tbody>\n",
                "          </table>\n",
                "        </p>\n",
                "      </div>\n",
                "    </div>\n",
                "  $html$,\n",
                "  $1.id,\n",
                "  ft.sanitize_html($1.name),\n",
                "  $1.data,\n",
                "  (SELECT table_rows FROM html_table)\n",
                "  );\n",
                "$$ LANGUAGE sql STABLE;\n"
            ]
        },
        {
            "cell_type": "code",
            "execution_count": 56,
            "metadata": {
                "azdata_cell_guid": "7e93bd24-b5b8-4848-937b-8207586d1eba",
                "language": "sql"
            },
            "outputs": [
                {
                    "data": {
                        "text/html": [
                            "CREATE FUNCTION"
                        ]
                    },
                    "metadata": {},
                    "output_type": "display_data"
                },
                {
                    "data": {
                        "text/html": [
                            "Total execution time: 00:00:00.002"
                        ]
                    },
                    "metadata": {},
                    "output_type": "display_data"
                }
            ],
            "source": [
                "-- Create HTML to display all Vehicles\n",
                "-- DROP FUNCTION IF EXISTS ft.html_all_vehicle(text);\n",
                "CREATE OR REPLACE FUNCTION ft.html_all_vehicle(text) RETURNS text AS $$\n",
                "  SELECT COALESCE(\n",
                "    '<div class=\"card-columns\">'\n",
                "      || string_agg(ft.html_cards(n), '' ORDER BY n.id) ||\n",
                "    '</div>'\n",
                "    '<p class=\"\">'||$1||'</p>',\n",
                "    '<p class=\"\">No Vehicle.</p>'\n",
                "    '<p class=\"\">'||$1||'</p>'\n",
                "  )\n",
                "  FROM ft.vehicle n where $1 = 'all_vehicle' OR data ->> 'type'=$1 ;\n",
                "$$ language sql;\n"
            ]
        },
        {
            "cell_type": "code",
            "execution_count": 57,
            "metadata": {
                "azdata_cell_guid": "20691eea-27a6-447b-8370-f7e9d3e2adc6",
                "language": "sql"
            },
            "outputs": [
                {
                    "data": {
                        "text/html": [
                            "CREATE FUNCTION"
                        ]
                    },
                    "metadata": {},
                    "output_type": "display_data"
                },
                {
                    "data": {
                        "text/html": [
                            "Total execution time: 00:00:00.010"
                        ]
                    },
                    "metadata": {},
                    "output_type": "display_data"
                }
            ],
            "source": [
                "\n",
                "-- Generate page to display Vehicles\n",
                "CREATE OR REPLACE FUNCTION ft.index() RETURNS \"text/html\" AS $$\n",
                "  SELECT $html$\n",
                "  <!DOCTYPE html>\n",
                "<html lang=\"en\">\n",
                "<head>\n",
                "  <meta charset=\"UTF-8\">\n",
                "  <meta name=\"viewport\" content=\"width=device-width, initial-scale=1.0\">\n",
                "  <title>Postgres Full stack</title>\n",
                "  <link rel=\"stylesheet\" href=\"https://maxcdn.bootstrapcdn.com/bootstrap/4.5.2/css/bootstrap.min.css\">\n",
                "</head>\n",
                "<body>\n",
                "  <nav class=\"navbar navbar-expand-lg navbar-dark bg-dark\">\n",
                "    <a class=\"navbar-brand\" href=\"/rpc/index\">Fullstack postgres vehicle app</a>\n",
                "    <button class=\"navbar-toggler\" type=\"button\" data-toggle=\"collapse\" data-target=\"#navbarNav\"\n",
                "      aria-controls=\"navbarNav\" aria-expanded=\"false\" aria-label=\"Toggle navigation\">\n",
                "      <span class=\"navbar-toggler-icon\"></span>\n",
                "    </button>\n",
                "    <div class=\"collapse navbar-collapse\" id=\"navbarNav\">\n",
                "      <ul class=\"navbar-nav\">\n",
                "        <li class=\"nav-item active\">\n",
                "          <a class=\"nav-link\" href=\"/rpc/index\">Vehicles</a>\n",
                "        </li>\n",
                "        <li class=\"nav-item\">\n",
                "          <a class=\"nav-link\" href=\"/rpc/new\">Create Vehicle</a>\n",
                "        </li>\n",
                "      </ul>\n",
                "    </div>\n",
                "  </nav>\n",
                "\n",
                "  <div class=\"container mt-4\">\n",
                "    <h2>Vehicles</h2>\n",
                "    \n",
                "    <div class=\"form-group\">\n",
                "      <label for=\"vehicleType\">Select Vehicle Type:</label>\n",
                "      <select class=\"form-control\" id=\"vehicleType\" onchange=\"updateVehicles()\">\n",
                "        <option value=\"all_vehicle\">All Vehicle</option>\n",
                "        <option value=\"car\">Car</option>\n",
                "        <option value=\"bike\">Bike</option>\n",
                "        <option value=\"truck\">Truck</option>\n",
                "      </select>\n",
                "    </div>\n",
                "\n",
                "    <div id=\"VehiclesContent\">\n",
                "      <!-- Initial content will be for 'car' -->\n",
                "      <div id=\"Vehicles\">\n",
                "        $html$\n",
                "          || ft.html_all_vehicle('all_vehicle') ||\n",
                "        $html$\n",
                "      </div>\n",
                "    </div>\n",
                "  </div>\n",
                "\n",
                "  <script src=\"https://code.jquery.com/jquery-3.5.1.slim.min.js\"></script>\n",
                "  <script src=\"https://cdn.jsdelivr.net/npm/@popperjs/core@2.9.2/dist/umd/popper.min.js\"></script>\n",
                "  <script src=\"https://maxcdn.bootstrapcdn.com/bootstrap/4.5.2/js/bootstrap.min.js\"></script>\n",
                "  <script>\n",
                "  function updateVehicles() {\n",
                "    var vehicleType = document.getElementById('vehicleType').value;\n",
                "    var vehicleHTML = '';\n",
                "    switch(vehicleType) {\n",
                "      case 'car':\n",
                "        vehicleHTML = `\n",
                "          $html$\n",
                "            || ft.html_all_vehicle('car') ||\n",
                "          $html$\n",
                "        `;\n",
                "        break;\n",
                "      case 'bike':\n",
                "        vehicleHTML = `\n",
                "          $html$\n",
                "            || ft.html_all_vehicle('bike') ||\n",
                "          $html$\n",
                "        `;\n",
                "        break;\n",
                "      case 'truck':\n",
                "        vehicleHTML = `\n",
                "          $html$\n",
                "            || ft.html_all_vehicle('truck') ||\n",
                "          $html$\n",
                "        `;\n",
                "        break;\n",
                "       case 'all_vehicle':\n",
                "        vehicleHTML = `\n",
                "          $html$\n",
                "            || ft.html_all_vehicle('all_vehicle') ||\n",
                "          $html$\n",
                "        `;\n",
                "        break;\n",
                "      default:\n",
                "        vehicleHTML = '<p>No Vehicles found.</p>';\n",
                "    }\n",
                "    document.getElementById('Vehicles').innerHTML = vehicleHTML;\n",
                "  }\n",
                "</script>\n",
                "\n",
                "</body>\n",
                "</html>\n",
                "\n",
                "  $html$\n",
                "$$ language sql;\n"
            ]
        }
    ],
    "metadata": {
        "kernelspec": {
            "display_name": "SQL",
            "language": "sql",
            "name": "SQL"
        },
        "language_info": {
            "name": "sql",
            "version": ""
        }
    },
    "nbformat": 4,
    "nbformat_minor": 2
}
