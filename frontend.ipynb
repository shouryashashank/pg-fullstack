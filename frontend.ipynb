{
    "metadata": {
        "kernelspec": {
            "name": "SQL",
            "display_name": "SQL",
            "language": "sql"
        },
        "language_info": {
            "name": "sql",
            "version": ""
        }
    },
    "nbformat_minor": 2,
    "nbformat": 4,
    "cells": [
        {
            "cell_type": "code",
            "source": [
                "-- Add media type handler for `text/html` requests\r\n",
                "CREATE DOMAIN \"text/html\" AS TEXT;"
            ],
            "metadata": {
                "azdata_cell_guid": "fdb0db5d-c6a1-4228-bd4f-10135fc02aae",
                "language": "sql"
            },
            "outputs": [
                {
                    "output_type": "display_data",
                    "data": {
                        "text/html": "CREATE DOMAIN"
                    },
                    "metadata": {}
                },
                {
                    "output_type": "display_data",
                    "data": {
                        "text/html": "Total execution time: 00:00:00.001"
                    },
                    "metadata": {}
                }
            ],
            "execution_count": 1
        },
        {
            "cell_type": "code",
            "source": [
                "-- Sanitize text to replace characters with HTML entities\r\n",
                "CREATE OR REPLACE FUNCTION ft.sanitize_html(text) RETURNS text AS $$\r\n",
                "  SELECT REPLACE(REPLACE(REPLACE(REPLACE(REPLACE($1, '&', '&amp;'), '\"', '&quot;'),'>', '&gt;'),'<', '&lt;'), '''', '&apos;')\r\n",
                "$$ language sql;"
            ],
            "metadata": {
                "language": "sql",
                "azdata_cell_guid": "d8f53827-9dfc-432c-89e0-0b9e9c826f9c"
            },
            "outputs": [
                {
                    "output_type": "display_data",
                    "data": {
                        "text/html": "CREATE FUNCTION"
                    },
                    "metadata": {}
                },
                {
                    "output_type": "display_data",
                    "data": {
                        "text/html": "Total execution time: 00:00:00.003"
                    },
                    "metadata": {}
                }
            ],
            "execution_count": 2
        },
        {
            "cell_type": "code",
            "source": [
                "-- Format all cars as HTML cards\r\n",
                "CREATE OR REPLACE FUNCTION ft.html_cards(ft.vehicle) RETURNS text AS $$\r\n",
                "  WITH json_data AS (\r\n",
                "    SELECT\r\n",
                "      key, value\r\n",
                "    FROM \r\n",
                "      jsonb_each_text($1.data)\r\n",
                "  ),\r\n",
                "  html_table AS (\r\n",
                "    SELECT \r\n",
                "      string_agg(\r\n",
                "        FORMAT(\r\n",
                "          '<tr><td>%s</td><td>%s</td></tr>',\r\n",
                "          json_data.key, json_data.value\r\n",
                "        ),\r\n",
                "        ''\r\n",
                "      ) as table_rows\r\n",
                "    FROM json_data\r\n",
                "  )\r\n",
                "  SELECT FORMAT($html$\r\n",
                "    <div class=\"card\">\r\n",
                "      <div class=\"card-body\">\r\n",
                "        <h5 class=\"card-title\">%2$s</h5>\r\n",
                "        <p class=\"card-text\">\r\n",
                "          <table class=\"table\">\r\n",
                "            <tbody>\r\n",
                "              %4$s\r\n",
                "            </tbody>\r\n",
                "          </table>\r\n",
                "        </p>\r\n",
                "      </div>\r\n",
                "    </div>\r\n",
                "  $html$,\r\n",
                "  $1.id,\r\n",
                "  ft.sanitize_html($1.name),\r\n",
                "  $1.data,\r\n",
                "  (SELECT table_rows FROM html_table)\r\n",
                "  );\r\n",
                "$$ LANGUAGE sql STABLE;\r\n",
                ""
            ],
            "metadata": {
                "language": "sql",
                "azdata_cell_guid": "bb16cdb4-9d1d-4e86-a0b1-4def7070bbd9"
            },
            "outputs": [
                {
                    "output_type": "display_data",
                    "data": {
                        "text/html": "CREATE FUNCTION"
                    },
                    "metadata": {}
                },
                {
                    "output_type": "display_data",
                    "data": {
                        "text/html": "Total execution time: 00:00:00.005"
                    },
                    "metadata": {}
                }
            ],
            "execution_count": 55
        },
        {
            "cell_type": "code",
            "source": [
                "-- Create HTML to display all Vehicles\r\n",
                "-- DROP FUNCTION IF EXISTS ft.html_all_vehicle(text);\r\n",
                "CREATE OR REPLACE FUNCTION ft.html_all_vehicle(text) RETURNS text AS $$\r\n",
                "  SELECT COALESCE(\r\n",
                "    '<div class=\"card-columns\">'\r\n",
                "      || string_agg(ft.html_cards(n), '' ORDER BY n.id) ||\r\n",
                "    '</div>'\r\n",
                "    '<p class=\"\">'||$1||'</p>',\r\n",
                "    '<p class=\"\">No Vehicle.</p>'\r\n",
                "    '<p class=\"\">'||$1||'</p>'\r\n",
                "  )\r\n",
                "  FROM ft.vehicle n where $1 = 'all_vehicle' OR data ->> 'type'=$1 ;\r\n",
                "$$ language sql;\r\n",
                ""
            ],
            "metadata": {
                "language": "sql",
                "azdata_cell_guid": "7e93bd24-b5b8-4848-937b-8207586d1eba"
            },
            "outputs": [
                {
                    "output_type": "display_data",
                    "data": {
                        "text/html": "CREATE FUNCTION"
                    },
                    "metadata": {}
                },
                {
                    "output_type": "display_data",
                    "data": {
                        "text/html": "Total execution time: 00:00:00.002"
                    },
                    "metadata": {}
                }
            ],
            "execution_count": 56
        },
        {
            "cell_type": "code",
            "source": [
                "-- add filter to filter vehichle based on type\r\n",
                "CREATE OR REPLACE"
            ],
            "metadata": {
                "language": "sql",
                "azdata_cell_guid": "912aa62c-7868-4e04-81fc-806e7ad5ea6f"
            },
            "outputs": [],
            "execution_count": null
        },
        {
            "cell_type": "code",
            "source": [
                "\r\n",
                "-- Generate page to display Vehicles\r\n",
                "CREATE OR REPLACE FUNCTION ft.index() RETURNS \"text/html\" AS $$\r\n",
                "  SELECT $html$\r\n",
                "  <!DOCTYPE html>\r\n",
                "<html lang=\"en\">\r\n",
                "<head>\r\n",
                "  <meta charset=\"UTF-8\">\r\n",
                "  <meta name=\"viewport\" content=\"width=device-width, initial-scale=1.0\">\r\n",
                "  <title>Postgres Full stack</title>\r\n",
                "  <link rel=\"stylesheet\" href=\"https://maxcdn.bootstrapcdn.com/bootstrap/4.5.2/css/bootstrap.min.css\">\r\n",
                "</head>\r\n",
                "<body>\r\n",
                "  <nav class=\"navbar navbar-expand-lg navbar-dark bg-dark\">\r\n",
                "    <a class=\"navbar-brand\" href=\"/rpc/index\">Fullstack postgres vehicle app</a>\r\n",
                "    <button class=\"navbar-toggler\" type=\"button\" data-toggle=\"collapse\" data-target=\"#navbarNav\"\r\n",
                "      aria-controls=\"navbarNav\" aria-expanded=\"false\" aria-label=\"Toggle navigation\">\r\n",
                "      <span class=\"navbar-toggler-icon\"></span>\r\n",
                "    </button>\r\n",
                "    <div class=\"collapse navbar-collapse\" id=\"navbarNav\">\r\n",
                "      <ul class=\"navbar-nav\">\r\n",
                "        <li class=\"nav-item active\">\r\n",
                "          <a class=\"nav-link\" href=\"/rpc/index\">Vehicles</a>\r\n",
                "        </li>\r\n",
                "        <li class=\"nav-item\">\r\n",
                "          <a class=\"nav-link\" href=\"/rpc/new\">Create Vehicle</a>\r\n",
                "        </li>\r\n",
                "      </ul>\r\n",
                "    </div>\r\n",
                "  </nav>\r\n",
                "\r\n",
                "  <div class=\"container mt-4\">\r\n",
                "    <h2>Vehicles</h2>\r\n",
                "    \r\n",
                "    <div class=\"form-group\">\r\n",
                "      <label for=\"vehicleType\">Select Vehicle Type:</label>\r\n",
                "      <select class=\"form-control\" id=\"vehicleType\" onchange=\"updateVehicles()\">\r\n",
                "        <option value=\"all_vehicle\">All Vehicle</option>\r\n",
                "        <option value=\"car\">Car</option>\r\n",
                "        <option value=\"bike\">Bike</option>\r\n",
                "        <option value=\"truck\">Truck</option>\r\n",
                "      </select>\r\n",
                "    </div>\r\n",
                "\r\n",
                "    <div id=\"VehiclesContent\">\r\n",
                "      <!-- Initial content will be for 'car' -->\r\n",
                "      <div id=\"Vehicles\">\r\n",
                "        $html$\r\n",
                "          || ft.html_all_vehicle('all_vehicle') ||\r\n",
                "        $html$\r\n",
                "      </div>\r\n",
                "    </div>\r\n",
                "  </div>\r\n",
                "\r\n",
                "  <script src=\"https://code.jquery.com/jquery-3.5.1.slim.min.js\"></script>\r\n",
                "  <script src=\"https://cdn.jsdelivr.net/npm/@popperjs/core@2.9.2/dist/umd/popper.min.js\"></script>\r\n",
                "  <script src=\"https://maxcdn.bootstrapcdn.com/bootstrap/4.5.2/js/bootstrap.min.js\"></script>\r\n",
                "  <script>\r\n",
                "  function updateVehicles() {\r\n",
                "    var vehicleType = document.getElementById('vehicleType').value;\r\n",
                "    var vehicleHTML = '';\r\n",
                "    switch(vehicleType) {\r\n",
                "      case 'car':\r\n",
                "        vehicleHTML = `\r\n",
                "          $html$\r\n",
                "            || ft.html_all_vehicle('car') ||\r\n",
                "          $html$\r\n",
                "        `;\r\n",
                "        break;\r\n",
                "      case 'bike':\r\n",
                "        vehicleHTML = `\r\n",
                "          $html$\r\n",
                "            || ft.html_all_vehicle('bike') ||\r\n",
                "          $html$\r\n",
                "        `;\r\n",
                "        break;\r\n",
                "      case 'truck':\r\n",
                "        vehicleHTML = `\r\n",
                "          $html$\r\n",
                "            || ft.html_all_vehicle('truck') ||\r\n",
                "          $html$\r\n",
                "        `;\r\n",
                "        break;\r\n",
                "       case 'all_vehicle':\r\n",
                "        vehicleHTML = `\r\n",
                "          $html$\r\n",
                "            || ft.html_all_vehicle('all_vehicle') ||\r\n",
                "          $html$\r\n",
                "        `;\r\n",
                "        break;\r\n",
                "      default:\r\n",
                "        vehicleHTML = '<p>No Vehicles found.</p>';\r\n",
                "    }\r\n",
                "    document.getElementById('Vehicles').innerHTML = vehicleHTML;\r\n",
                "  }\r\n",
                "</script>\r\n",
                "\r\n",
                "</body>\r\n",
                "</html>\r\n",
                "\r\n",
                "  $html$\r\n",
                "$$ language sql;\r\n",
                ""
            ],
            "metadata": {
                "azdata_cell_guid": "20691eea-27a6-447b-8370-f7e9d3e2adc6",
                "language": "sql"
            },
            "outputs": [
                {
                    "output_type": "display_data",
                    "data": {
                        "text/html": "CREATE FUNCTION"
                    },
                    "metadata": {}
                },
                {
                    "output_type": "display_data",
                    "data": {
                        "text/html": "Total execution time: 00:00:00.010"
                    },
                    "metadata": {}
                }
            ],
            "execution_count": 57
        }
    ]
}